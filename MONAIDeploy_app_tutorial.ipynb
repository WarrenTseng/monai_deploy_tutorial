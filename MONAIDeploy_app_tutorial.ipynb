{
 "cells": [
  {
   "cell_type": "markdown",
   "id": "813cdd7f",
   "metadata": {},
   "source": [
    "## Environment\n",
    "- Host virtualenv: conda create -n monai python=3.7 pytorch torchvision jupyterlab cudatoolkit=11.1 monai monai-deploy-app-sdk -c pytorch -c conda-forge\n",
    "- Additional requirements: nibabel, pydicom, SimpleITK, typeguard, wget, gdown"
   ]
  },
  {
   "cell_type": "markdown",
   "id": "e99a0860",
   "metadata": {},
   "source": [
    "# Part 1: MONAIDeploy APP Tutorial"
   ]
  },
  {
   "cell_type": "markdown",
   "id": "b9787486",
   "metadata": {},
   "source": [
    "### - Deploy APP Structure\n",
    "<img src=\"./imgs/dep_app_structure.jpg\" alt=\"drawing\" width=\"200\"/>"
   ]
  },
  {
   "cell_type": "markdown",
   "id": "e9bb248d",
   "metadata": {},
   "source": [
    "### - APP Pipeline\n",
    "<img src=\"./imgs/app_pipeline.jpg\" alt=\"drawing\" width=\"600\"/>"
   ]
  },
  {
   "cell_type": "markdown",
   "id": "332d9bae",
   "metadata": {},
   "source": [
    "## 1. Download the Sample Data"
   ]
  },
  {
   "cell_type": "code",
   "execution_count": null,
   "id": "451f7067",
   "metadata": {},
   "outputs": [],
   "source": [
    "from skimage import io\n",
    "import wget\n",
    "\n",
    "test_input_path = \"/mount/src/tmp/normal-brain-mri-4.png\"\n",
    "wget.download(\"https://user-images.githubusercontent.com/1928522/133383228-2357d62d-316c-46ad-af8a-359b56f25c87.png\", test_input_path)\n",
    "\n",
    "print(f\"Test input file path: {test_input_path}\")\n",
    "\n",
    "test_image = io.imread(test_input_path)\n",
    "io.imshow(test_image)"
   ]
  },
  {
   "cell_type": "markdown",
   "id": "236574d9",
   "metadata": {},
   "source": [
    "## 2. Creating Operators"
   ]
  },
  {
   "cell_type": "code",
   "execution_count": null,
   "id": "52532326",
   "metadata": {},
   "outputs": [],
   "source": [
    "!mkdir simple_imaging_app"
   ]
  },
  {
   "cell_type": "markdown",
   "id": "13dd9ebf",
   "metadata": {},
   "source": [
    "### SobelOperator"
   ]
  },
  {
   "cell_type": "code",
   "execution_count": null,
   "id": "c9052774",
   "metadata": {},
   "outputs": [],
   "source": [
    "%%writefile simple_imaging_app/sobel_operator.py\n",
    "import monai.deploy.core as md\n",
    "from monai.deploy.core import DataPath, ExecutionContext, Image, InputContext, IOType, Operator, OutputContext\n",
    "\n",
    "@md.input(\"image\", DataPath, IOType.DISK)\n",
    "@md.output(\"image\", Image, IOType.IN_MEMORY)\n",
    "class SobelOperator(Operator):\n",
    "    def compute(self, op_input: InputContext, op_output: OutputContext, context: ExecutionContext):\n",
    "        from skimage import filters, io\n",
    "\n",
    "        input_path = op_input.get().path\n",
    "        if input_path.is_dir():\n",
    "            input_path = next(input_path.glob(\"*.*\"))  # take the first file\n",
    "\n",
    "        data_in = io.imread(input_path)[:, :, :3]  # discard alpha channel if exists\n",
    "        data_out = filters.sobel(data_in)\n",
    "\n",
    "        op_output.set(Image(data_out))"
   ]
  },
  {
   "cell_type": "markdown",
   "id": "a8cae9b4",
   "metadata": {},
   "source": [
    "### MedianOperator"
   ]
  },
  {
   "cell_type": "code",
   "execution_count": null,
   "id": "6e0eb2b0",
   "metadata": {},
   "outputs": [],
   "source": [
    "%%writefile simple_imaging_app/median_operator.py\n",
    "import monai.deploy.core as md\n",
    "from monai.deploy.core import ExecutionContext, Image, InputContext, IOType, Operator, OutputContext, output\n",
    "\n",
    "\n",
    "@md.input(\"image\", Image, IOType.IN_MEMORY)\n",
    "@md.output(\"image\", Image, IOType.IN_MEMORY)\n",
    "class MedianOperator(Operator):\n",
    "    def compute(self, op_input: InputContext, op_output: OutputContext, context: ExecutionContext):\n",
    "        from skimage.filters import median\n",
    "\n",
    "        data_in = op_input.get().asnumpy()\n",
    "        data_out = median(data_in)\n",
    "        op_output.set(Image(data_out))"
   ]
  },
  {
   "cell_type": "markdown",
   "id": "52415da1",
   "metadata": {},
   "source": [
    "### GaussianOperator"
   ]
  },
  {
   "cell_type": "code",
   "execution_count": null,
   "id": "f0275e83",
   "metadata": {},
   "outputs": [],
   "source": [
    "%%writefile simple_imaging_app/gaussian_operator.py\n",
    "import monai.deploy.core as md\n",
    "from monai.deploy.core import DataPath, ExecutionContext, Image, InputContext, IOType, Operator, OutputContext\n",
    "\n",
    "@md.input(\"image\", Image, IOType.IN_MEMORY)\n",
    "@md.output(\"image\", DataPath, IOType.DISK)\n",
    "class GaussianOperator(Operator):\n",
    "    def compute(self, op_input: InputContext, op_output: OutputContext, context: ExecutionContext):\n",
    "        from skimage.filters import gaussian\n",
    "        from skimage.io import imsave\n",
    "\n",
    "        data_in = op_input.get().asnumpy()\n",
    "        data_out = gaussian(data_in, sigma=0.2)\n",
    "\n",
    "        output_folder = op_output.get().path\n",
    "        output_path = output_folder / \"final_output.png\"\n",
    "        imsave(output_path, data_out)"
   ]
  },
  {
   "cell_type": "markdown",
   "id": "70845a4f",
   "metadata": {},
   "source": [
    "## 3. Application Class"
   ]
  },
  {
   "cell_type": "code",
   "execution_count": null,
   "id": "1c7e8315",
   "metadata": {},
   "outputs": [],
   "source": [
    "%%writefile simple_imaging_app/app.py\n",
    "import monai.deploy.core as md\n",
    "from gaussian_operator import GaussianOperator\n",
    "from median_operator import MedianOperator\n",
    "from sobel_operator import SobelOperator\n",
    "\n",
    "from monai.deploy.core import Application\n",
    "\n",
    "\n",
    "@md.resource(cpu=1)\n",
    "@md.env(pip_packages=[\"scikit-image >= 0.17.2\", \"monai == 0.7.0\", \"monai-deploy-app-sdk == 0.2.0\"])\n",
    "class App(Application):\n",
    "    def compose(self):\n",
    "        sobel_op = SobelOperator()\n",
    "        median_op = MedianOperator()\n",
    "        gaussian_op = GaussianOperator()\n",
    "\n",
    "        self.add_flow(sobel_op, median_op)\n",
    "        self.add_flow(median_op, gaussian_op)\n",
    "\n",
    "# Run the application when this file is executed.\n",
    "if __name__ == \"__main__\":\n",
    "    App(do_run=True)"
   ]
  },
  {
   "cell_type": "code",
   "execution_count": null,
   "id": "d482f6fe",
   "metadata": {},
   "outputs": [],
   "source": [
    "%%writefile simple_imaging_app/__main__.py\n",
    "from app import App\n",
    "\n",
    "if __name__ == \"__main__\":\n",
    "    App(do_run=True)"
   ]
  },
  {
   "cell_type": "markdown",
   "id": "c82b5d90",
   "metadata": {},
   "source": [
    "## 4. APP Testing"
   ]
  },
  {
   "cell_type": "code",
   "execution_count": null,
   "id": "105cbc28",
   "metadata": {},
   "outputs": [],
   "source": [
    "!monai-deploy exec simple_imaging_app -i {test_input_path} -o output\n",
    "# !python simple_imaging_app -i {test_input_path} -o output"
   ]
  },
  {
   "cell_type": "code",
   "execution_count": null,
   "id": "5cf36508",
   "metadata": {},
   "outputs": [],
   "source": [
    "from skimage import io\n",
    "output_image = io.imread(\"output/final_output.png\")\n",
    "io.imshow(output_image)"
   ]
  },
  {
   "cell_type": "markdown",
   "id": "5492fb22",
   "metadata": {},
   "source": [
    "## 5. Packaging APP"
   ]
  },
  {
   "cell_type": "code",
   "execution_count": null,
   "id": "32cd76c8",
   "metadata": {},
   "outputs": [],
   "source": [
    "# Copy a test input file to 'input' folder\n",
    "!mkdir -p input && rm -rf input/*\n",
    "!cp {test_input_path} input/"
   ]
  },
  {
   "cell_type": "markdown",
   "id": "9e7a8854",
   "metadata": {},
   "source": [
    "- Execute the commands below in your host env </br>\n",
    "****************************************************************"
   ]
  },
  {
   "cell_type": "code",
   "execution_count": null,
   "id": "c8e910ce",
   "metadata": {},
   "outputs": [],
   "source": [
    "# !sudo /raid/home/warren/miniconda3/envs/monai/bin/monai-deploy package simple_imaging_app --tag simple_monai_app:latest"
   ]
  },
  {
   "cell_type": "code",
   "execution_count": null,
   "id": "46d1a608",
   "metadata": {},
   "outputs": [],
   "source": [
    "## Check the created image\n",
    "# !sudo docker images | grep monai_app"
   ]
  },
  {
   "cell_type": "markdown",
   "id": "8eaee903",
   "metadata": {},
   "source": [
    "****************************************************************"
   ]
  },
  {
   "cell_type": "markdown",
   "id": "260c763c",
   "metadata": {},
   "source": [
    "## 6. Executing Packaged APP"
   ]
  },
  {
   "cell_type": "markdown",
   "id": "310f26ea",
   "metadata": {},
   "source": [
    "- Execute the commands below in your host env </br>\n",
    "****************************************************************"
   ]
  },
  {
   "cell_type": "code",
   "execution_count": null,
   "id": "00a54fdc",
   "metadata": {},
   "outputs": [],
   "source": [
    "# !sudo /raid/home/warren/miniconda3/envs/monai/bin/monai-deploy run simple_monai_app:latest input output"
   ]
  },
  {
   "cell_type": "markdown",
   "id": "9ca3f652",
   "metadata": {},
   "source": [
    "****************************************************************"
   ]
  },
  {
   "cell_type": "code",
   "execution_count": null,
   "id": "9cdf4c9c",
   "metadata": {},
   "outputs": [],
   "source": [
    "output_image = io.imread(\"output/final_output.png\")\n",
    "io.imshow(output_image)"
   ]
  },
  {
   "cell_type": "markdown",
   "id": "efd7cf51",
   "metadata": {},
   "source": [
    "# Part 2: Segmentation Pipeline APP"
   ]
  },
  {
   "cell_type": "markdown",
   "id": "78387595",
   "metadata": {},
   "source": [
    "## 1. Download and Extract Sample Data"
   ]
  },
  {
   "cell_type": "code",
   "execution_count": null,
   "id": "d58fdebe",
   "metadata": {
    "scrolled": true
   },
   "outputs": [],
   "source": [
    "# Download ai_spleen_seg_data test data zip file\n",
    "!gdown https://drive.google.com/uc?id=1GC_N8YQk_mOWN02oOzAU_2YDmNRWk--n\n",
    "\n",
    "# After downloading ai_spleen_seg_data zip file from the web browser or using gdown,\n",
    "!unzip -o \"ai_spleen_seg_data_updated_1203.zip\""
   ]
  },
  {
   "cell_type": "markdown",
   "id": "a6027e70",
   "metadata": {},
   "source": [
    "## 2. Creating Segmentation Operator"
   ]
  },
  {
   "cell_type": "code",
   "execution_count": null,
   "id": "41afe64e",
   "metadata": {},
   "outputs": [],
   "source": [
    "# Create an application folder\n",
    "!mkdir -p spleen_seg_app"
   ]
  },
  {
   "cell_type": "markdown",
   "id": "fdf358b3",
   "metadata": {},
   "source": [
    "### spleen_seg_operator.py"
   ]
  },
  {
   "cell_type": "code",
   "execution_count": null,
   "id": "98f696a4",
   "metadata": {},
   "outputs": [],
   "source": [
    "%%writefile spleen_seg_app/spleen_seg_operator.py\n",
    "import logging\n",
    "from os import path\n",
    "\n",
    "from numpy import uint8\n",
    "import monai.deploy.core as md\n",
    "from monai.deploy.core import ExecutionContext, Image, InputContext, IOType, Operator, OutputContext\n",
    "from monai.deploy.operators.monai_seg_inference_operator import InMemImageReader, MonaiSegInferenceOperator\n",
    "import monai\n",
    "from monai.transforms import (\n",
    "    Activationsd,\n",
    "    AsDiscreted,\n",
    "    Compose,\n",
    "    CropForegroundd,\n",
    "    EnsureChannelFirstd,\n",
    "    Invertd,\n",
    "    LoadImaged,\n",
    "    SaveImaged,\n",
    "    ScaleIntensityRanged,\n",
    "    Spacingd,\n",
    "    ToTensord,\n",
    ")\n",
    "\n",
    "@md.input(\"image\", Image, IOType.IN_MEMORY)\n",
    "@md.output(\"seg_image\", Image, IOType.IN_MEMORY)\n",
    "@md.env(pip_packages=[\"monai==0.7.0\", \"torch>=1.5\", \"numpy>=1.20\", \"nibabel\", \"typeguard\", \"monai-deploy-app-sdk == 0.2.0\"])\n",
    "class SpleenSegOperator(Operator):\n",
    "    \"\"\"Performs Spleen segmentation with a 3D image converted from a DICOM CT series.\n",
    "    \"\"\"\n",
    "\n",
    "    def __init__(self):\n",
    "\n",
    "        self.logger = logging.getLogger(\"{}.{}\".format(__name__, type(self).__name__))\n",
    "        super().__init__()\n",
    "        self._input_dataset_key = \"image\"\n",
    "        self._pred_dataset_key = \"pred\"\n",
    "\n",
    "    def compute(self, op_input: InputContext, op_output: OutputContext, context: ExecutionContext):\n",
    "\n",
    "        input_image = op_input.get(\"image\")\n",
    "        if not input_image:\n",
    "            raise ValueError(\"Input image is not found.\")\n",
    "\n",
    "        output_path = context.output.get().path\n",
    "\n",
    "        # This operator gets an in-memory Image object, so a specialized ImageReader is needed.\n",
    "        _reader = InMemImageReader(input_image)\n",
    "        pre_transforms = self.pre_process(_reader)\n",
    "        post_transforms = self.post_process(pre_transforms, path.join(output_path, \"prediction_output\"))\n",
    "\n",
    "        # Delegates inference and saving output to the built-in operator.\n",
    "        infer_operator = MonaiSegInferenceOperator(\n",
    "            (\n",
    "                160,\n",
    "                160,\n",
    "                160,\n",
    "            ),\n",
    "            pre_transforms,\n",
    "            post_transforms,\n",
    "        )\n",
    "\n",
    "        # Setting the keys used in the dictironary based transforms may change.\n",
    "        infer_operator.input_dataset_key = self._input_dataset_key\n",
    "        infer_operator.pred_dataset_key = self._pred_dataset_key\n",
    "\n",
    "        # Now let the built-in operator handles the work with the I/O spec and execution context.\n",
    "        infer_operator.compute(op_input, op_output, context)\n",
    "\n",
    "    def pre_process(self, img_reader) -> Compose:\n",
    "        \"\"\"Composes transforms for preprocessing input before predicting on a model.\"\"\"\n",
    "\n",
    "        my_key = self._input_dataset_key\n",
    "        return Compose(\n",
    "            [\n",
    "                LoadImaged(keys=my_key, reader=img_reader),\n",
    "                EnsureChannelFirstd(keys=my_key),\n",
    "                Spacingd(keys=my_key, pixdim=[1.0, 1.0, 1.0], mode=[\"blinear\"], align_corners=True),\n",
    "                ScaleIntensityRanged(keys=my_key, a_min=-57, a_max=164, b_min=0.0, b_max=1.0, clip=True),\n",
    "                CropForegroundd(keys=my_key, source_key=my_key),\n",
    "                ToTensord(keys=my_key),\n",
    "            ]\n",
    "        )\n",
    "\n",
    "    def post_process(self, pre_transforms: Compose, out_dir: str = \"./prediction_output\") -> Compose:\n",
    "        \"\"\"Composes transforms for postprocessing the prediction results.\"\"\"\n",
    "\n",
    "        pred_key = self._pred_dataset_key\n",
    "        return Compose(\n",
    "            [\n",
    "                Activationsd(keys=pred_key, softmax=True),\n",
    "                AsDiscreted(keys=pred_key, argmax=True),\n",
    "                Invertd(\n",
    "                    keys=pred_key, transform=pre_transforms, orig_keys=self._input_dataset_key, nearest_interp=True\n",
    "                ),\n",
    "                SaveImaged(keys=pred_key, output_dir=out_dir, output_postfix=\"seg\", output_dtype=uint8, resample=False),\n",
    "            ]\n",
    "        )"
   ]
  },
  {
   "cell_type": "markdown",
   "id": "697459a4",
   "metadata": {},
   "source": [
    "## 3. Application Class"
   ]
  },
  {
   "cell_type": "code",
   "execution_count": null,
   "id": "ac79cb6e",
   "metadata": {},
   "outputs": [],
   "source": [
    "%%writefile spleen_seg_app/app.py\n",
    "import logging\n",
    "\n",
    "from spleen_seg_operator import SpleenSegOperator\n",
    "\n",
    "import monai.deploy.core as md\n",
    "from monai.deploy.core import Application, resource\n",
    "from monai.deploy.operators.dicom_data_loader_operator import DICOMDataLoaderOperator\n",
    "from monai.deploy.operators.dicom_seg_writer_operator import DICOMSegmentationWriterOperator\n",
    "from monai.deploy.operators.dicom_series_selector_operator import DICOMSeriesSelectorOperator\n",
    "from monai.deploy.operators.dicom_series_to_volume_operator import DICOMSeriesToVolumeOperator\n",
    "\n",
    "@resource(cpu=1, gpu=1, memory=\"7Gi\")\n",
    "@md.env(pip_packages=[\"monai-deploy-app-sdk == 0.2.0\"])\n",
    "class AISpleenSegApp(Application):\n",
    "    def __init__(self, *args, **kwargs):\n",
    "        super().__init__(*args, **kwargs)\n",
    "\n",
    "    def compose(self):\n",
    "\n",
    "        study_loader_op = DICOMDataLoaderOperator()\n",
    "        series_selector_op = DICOMSeriesSelectorOperator(Sample_Rules_Text)\n",
    "        series_to_vol_op = DICOMSeriesToVolumeOperator()\n",
    "        # Creates DICOM Seg writer with segment label name in a string list\n",
    "        dicom_seg_writer = DICOMSegmentationWriterOperator(seg_labels=[\"Spleen\"])\n",
    "        # Creates the model specific segmentation operator\n",
    "        spleen_seg_op = SpleenSegOperator()\n",
    "\n",
    "        # Creates the DAG by link the operators\n",
    "        self.add_flow(study_loader_op, series_selector_op, {\"dicom_study_list\": \"dicom_study_list\"})\n",
    "        self.add_flow(series_selector_op, series_to_vol_op, {\"study_selected_series_list\": \"study_selected_series_list\"})\n",
    "        self.add_flow(series_to_vol_op, spleen_seg_op, {\"image\": \"image\"})\n",
    "        self.add_flow(series_selector_op, dicom_seg_writer, {\"study_selected_series_list\": \"study_selected_series_list\"})\n",
    "        self.add_flow(spleen_seg_op, dicom_seg_writer, {\"seg_image\": \"seg_image\"})\n",
    "\n",
    "# This is a sample series selection rule in JSON, simply selecting CT series.\n",
    "# If the study has more than 1 CT series, then all of them will be selected.\n",
    "# Please see more detail in DICOMSeriesSelectorOperator.\n",
    "Sample_Rules_Text = \"\"\"\n",
    "{\n",
    "    \"selections\": [\n",
    "        {\n",
    "            \"name\": \"CT Series\",\n",
    "            \"conditions\": {\n",
    "                \"StudyDescription\": \"(.*?)\",\n",
    "                \"Modality\": \"(?i)CT\",\n",
    "                \"SeriesDescription\": \"(.*?)\"\n",
    "            }\n",
    "        }\n",
    "    ]\n",
    "}\n",
    "\"\"\"\n",
    "\n",
    "if __name__ == \"__main__\":\n",
    "    # Creates the app and test it standalone. When running is this mode, please note the following:\n",
    "    #     -i <DICOM folder>, for input DICOM CT series folder\n",
    "    #     -o <output folder>, for the output folder, default $PWD/output\n",
    "    #     -m <model file>, for model file path\n",
    "    # e.g.\n",
    "    #     python3 app.py -i input -m model.ts\n",
    "    #\n",
    "    AISpleenSegApp(do_run=True)"
   ]
  },
  {
   "cell_type": "code",
   "execution_count": null,
   "id": "cf64b1ce",
   "metadata": {},
   "outputs": [],
   "source": [
    "%%writefile spleen_seg_app/__main__.py\n",
    "from app import AISpleenSegApp\n",
    "\n",
    "if __name__ == \"__main__\":\n",
    "    AISpleenSegApp(do_run=True)"
   ]
  },
  {
   "cell_type": "markdown",
   "id": "9df21927",
   "metadata": {},
   "source": [
    "## 4. APP Testing"
   ]
  },
  {
   "cell_type": "code",
   "execution_count": null,
   "id": "f94d9a9d",
   "metadata": {
    "scrolled": true
   },
   "outputs": [],
   "source": [
    "!monai-deploy exec spleen_seg_app -i dcm -o output -m model.ts"
   ]
  },
  {
   "cell_type": "markdown",
   "id": "c1073433",
   "metadata": {},
   "source": [
    "## 5. Packaging APP"
   ]
  },
  {
   "cell_type": "markdown",
   "id": "7ddfdc97",
   "metadata": {},
   "source": [
    "- Execute the commands below in your host env </br>\n",
    "****************************************************************"
   ]
  },
  {
   "cell_type": "code",
   "execution_count": null,
   "id": "4470a368",
   "metadata": {},
   "outputs": [],
   "source": [
    "# !sudo /raid/home/warren/miniconda3/envs/monai/bin/monai-deploy package -b nvcr.io/nvidia/pytorch:21.11-py3 spleen_seg_app --tag spleen_seg_app:latest -m model.ts"
   ]
  },
  {
   "cell_type": "code",
   "execution_count": null,
   "id": "b393cf1f",
   "metadata": {},
   "outputs": [],
   "source": [
    "# !sudo docker images | grep spleen"
   ]
  },
  {
   "cell_type": "markdown",
   "id": "7e89f47f",
   "metadata": {},
   "source": [
    "****************************************************************"
   ]
  },
  {
   "cell_type": "markdown",
   "id": "7d1826a2",
   "metadata": {},
   "source": [
    "## 6. Executing Packaged APP"
   ]
  },
  {
   "cell_type": "markdown",
   "id": "870b76de",
   "metadata": {},
   "source": [
    "- Execute the commands below in your host env </br>\n",
    "****************************************************************"
   ]
  },
  {
   "cell_type": "code",
   "execution_count": null,
   "id": "04bb6bc3",
   "metadata": {},
   "outputs": [],
   "source": [
    "# !sudo /raid/home/warren/miniconda3/envs/monai/bin/monai-deploy run spleen_seg_app:latest dcm output"
   ]
  },
  {
   "cell_type": "markdown",
   "id": "7ccded14",
   "metadata": {},
   "source": [
    "****************************************************************"
   ]
  },
  {
   "cell_type": "code",
   "execution_count": null,
   "id": "61e88b61",
   "metadata": {},
   "outputs": [],
   "source": [
    "!ls output"
   ]
  },
  {
   "cell_type": "code",
   "execution_count": null,
   "id": "7cf78fa2",
   "metadata": {},
   "outputs": [],
   "source": []
  }
 ],
 "metadata": {
  "kernelspec": {
   "display_name": "Python 3 (ipykernel)",
   "language": "python",
   "name": "python3"
  },
  "language_info": {
   "codemirror_mode": {
    "name": "ipython",
    "version": 3
   },
   "file_extension": ".py",
   "mimetype": "text/x-python",
   "name": "python",
   "nbconvert_exporter": "python",
   "pygments_lexer": "ipython3",
   "version": "3.8.10"
  }
 },
 "nbformat": 4,
 "nbformat_minor": 5
}
